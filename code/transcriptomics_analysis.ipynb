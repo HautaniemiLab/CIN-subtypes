{
 "cells": [
  {
   "cell_type": "markdown",
   "id": "c0d8ae36",
   "metadata": {},
   "source": [
    "# Functional analysis CIN-subtypes (Micoli et al.)\n",
    "\n",
    "#### Overview\n",
    "\n",
    "This notebook demonstrates the analysis pipeline described in **Micoli et al., 2025**: *Decoding the Genomic and Functional Landscape of Emerging Subtypes in Ovarian Cancer.*\n",
    "\n",
    "#### Contents\n",
    "\n",
    "* Data loading\n",
    "* Cell type analysis\n",
    "* Differential expression analysis (DEA)\n",
    "* Transcription factor activity inference (via CollecTRI)\n",
    "* Pathway activity inference (via PROGENy)\n",
    "* Gene Set Enrichment Analysis (GSEA)\n",
    "\n",
    "#### Required Inputs\n",
    "\n",
    "* PRISM<sup>1</sup> output: Required for downstream inference analyses.\n",
    "* Expression matrix: Gene expression counts with genes labeled by their gene symbols (EOC component from PRISM)\n",
    "* Annotation table: Must include grouping variables for comparison and any covariates for DEA.\n",
    "\n",
    "#### Use Case\n",
    "\n",
    "This notebook is designed for comparisons:\n",
    "\n",
    "* Between one subtype and the others within a single tissue type (either metastatic or site-of-origin)\n",
    "* Or between two tissue types within the same subtype\n",
    "\n",
    "Ensure the appropriate expression matrix and annotation table are provided for each analysis.\n",
    "\n",
    "<br><br>\n",
    "<sup>1</sup> Häkkinen, Antti et al. “PRISM: recovering cell-type-specific expression profiles from individual composite RNA-seq samples.” Bioinformatics (Oxford, England) vol. 37,18 (2021): 2882-2888. doi:10.1093/bioinformatics/btab178"
   ]
  },
  {
   "cell_type": "code",
   "execution_count": null,
   "id": "67c08a03",
   "metadata": {},
   "outputs": [],
   "source": [
    "# Loading of packages\n",
    "import scanpy as sc\n",
    "import decoupler as dc\n",
    "\n",
    "# Only needed for processing\n",
    "import numpy as np\n",
    "import pandas as pd\n",
    "from anndata import AnnData\n",
    "import conorm\n",
    "import seaborn as sns\n",
    "import matplotlib.pyplot as plt\n",
    "from scipy.stats import mannwhitneyu, ttest_ind, levene, shapiro\n",
    "\n",
    "# Import DESeq2\n",
    "from pydeseq2.dds import DeseqDataSet\n",
    "from pydeseq2.ds import DeseqStats\n",
    "\n",
    "# Import GSEApy\n",
    "import gseapy as gp"
   ]
  },
  {
   "cell_type": "code",
   "execution_count": null,
   "id": "972fc3ac",
   "metadata": {},
   "outputs": [],
   "source": [
    "sns.reset_defaults()\n",
    "plt.rcParams['figure.facecolor'] = (1,1,1,1)\n",
    "plt.rcParams['figure.dpi'] = 800\n",
    "sns.set_style('white')"
   ]
  },
  {
   "cell_type": "markdown",
   "id": "34560620",
   "metadata": {},
   "source": [
    "## Data loading"
   ]
  },
  {
   "cell_type": "code",
   "execution_count": null,
   "id": "0059ca64",
   "metadata": {
    "scrolled": true
   },
   "outputs": [],
   "source": [
    "# Load annotation and expression matrix\n",
    "ann_samples = pd.read_csv(\"path/to/annotations.tsv\", sep=\"\\t\", index_col = 0)\n",
    "ann_samples = ann_samples.set_index(\"rna_sample\") # Move column to rownames\n",
    "\n",
    "E = pd.read_csv(counts_E1_path, sep='\\t', index_col=0)\n",
    "E = E.set_index(\"X\")"
   ]
  },
  {
   "cell_type": "markdown",
   "id": "df5a06a8",
   "metadata": {},
   "source": [
    "Example of annotation table:\n",
    "\n",
    "| Sample ID | Comparison  | Tissue    | \n",
    "|-----------|-------------|-----------|\n",
    "| S001      | EMT         | Ovary     |\n",
    "| S002      | other_HRP   | Tube      |\n",
    "| S003      | other_HRP   | Adnexal   |\n",
    "| S004      | EMT         | Tube      |\n",
    "| ...       | ...         | ...       |"
   ]
  },
  {
   "cell_type": "markdown",
   "id": "7d96cc34",
   "metadata": {},
   "source": [
    "### Normalization of counts\n",
    "TMM normalization fro the GSEA analysis"
   ]
  },
  {
   "cell_type": "code",
   "execution_count": null,
   "id": "efabb5bc",
   "metadata": {},
   "outputs": [],
   "source": [
    "E_tmm = conorm.tmm(E)"
   ]
  },
  {
   "cell_type": "markdown",
   "id": "1ef5604f",
   "metadata": {},
   "source": [
    "## Cell types imbalances \n",
    "\n",
    "Analysis of the main cell types aboundancies in the comparison groups (epithelial ovarian cancer cells, immune cells, fibroblasts and other cells).\n",
    "\n",
    "Required: from PRISM load decomposition values (W matrix)."
   ]
  },
  {
   "cell_type": "code",
   "execution_count": null,
   "id": "88dc76d5",
   "metadata": {},
   "outputs": [],
   "source": [
    "# Load weigths\n",
    "W = pd.read_csv('path/to/W.tsv.gz', sep='\\t', index_col=0)\n",
    "\n",
    "# Filter for samples in annotation \n",
    "W = W.loc[ann_samples.index]\n",
    "\n",
    "# Add cluster and sample columns\n",
    "W['Cluster'] = ann_samples.loc[W.index, 'comparison']\n",
    "W.index.name = 'Sample'\n",
    "W['sample'] = W.index\n",
    "\n",
    "# Tranform in a wider format\n",
    "Wm =pd.melt(W, id_vars=['sample', 'Cluster'], var_name='CellType_Abundance')\n",
    "Wm = Wm[Wm.CellType_Abundance.isin(['EOC', 'Fibroblast', 'Immune', 'Unknown'])]"
   ]
  },
  {
   "cell_type": "code",
   "execution_count": null,
   "id": "613d7361",
   "metadata": {},
   "outputs": [],
   "source": [
    "# Plot differences\n",
    "ax = sns.boxplot(data=Wmelted, x='CellType_Abundance', y='value', hue='Cluster',\n",
    "                 palette = {\"Group1\": '#9b5de5', \"Group2\": '#95d5b2'},\n",
    "                 hue_order=[\"Group1\",\"Group2\"] # Change this in favor of your categories\n",
    "                )\n",
    "ax.set_xticklabels(ax.get_xticklabels(), fontsize=10, rotation=-60)\n",
    "\n",
    "ax.set_ylabel('% predicted by PRISM', fontsize=8)\n",
    "ax.set_xlabel('', fontsize=0)\n",
    "ax.set_title('Cell abundancies differences', fontsize=10)\n",
    "plt.savefig('your/path/celltypes.png')\n",
    "\n",
    "plt.show()"
   ]
  },
  {
   "cell_type": "markdown",
   "id": "d6601ca5",
   "metadata": {},
   "source": [
    "### Test for each celltype component if the classes are significantly different\n",
    "For each celltype test first if the assumptions for the T test hold and then perform T test or Mann Whitney U-test."
   ]
  },
  {
   "cell_type": "code",
   "execution_count": null,
   "id": "b68657aa",
   "metadata": {},
   "outputs": [],
   "source": [
    "# Define the components to test\n",
    "components = ['EOC', 'Fibroblast', 'Immune']\n",
    "\n",
    "# Run the test for each component\n",
    "for component in components:\n",
    "    core_values = W[W.Cluster == 'Group1'][component].values\n",
    "    other_values = W[W.Cluster == 'Group2'][component].values\n",
    "    \n",
    "    stat, p_value = mannwhitneyu(core_values, other_values)\n",
    "    \n",
    "    significance = (\n",
    "        \"NOT significant\" if p_value > 0.05 \n",
    "        else \"slightly significant\" if p_value > 0.01 \n",
    "        else \"significant\"\n",
    "    )\n",
    "    \n",
    "    print(f\"{component}: Mann-Whitney U = {stat}, p-value = {p_value:.5f} -> {significance}\")"
   ]
  },
  {
   "cell_type": "markdown",
   "id": "7f64189e",
   "metadata": {},
   "source": [
    "## DEA\n",
    "\n",
    "Step-by-step differential expression analysis.\n",
    "\n",
    "Required: expression matrix, annotation table, PRISM weigths and gains (W and G tables)."
   ]
  },
  {
   "cell_type": "code",
   "execution_count": null,
   "id": "062f7299",
   "metadata": {},
   "outputs": [],
   "source": [
    "# Transform counts in anndata object\n",
    "adata = AnnData(np.round(E_1[ann_samples.index].T), dtype=np.float32) # Use raw counts\n",
    "adata.var_names_make_unique()\n",
    "\n",
    "# Add annotation information\n",
    "adata.obs['comparison'] = [ann_samples.loc[sample_id, 'comparison'] for sample_id in adata.obs.index]\n",
    "adata.obs['tissue'] = [ann_samples.loc[sample_id, 'tissue'] for sample_id in adata.obs.index]\n",
    "adata.obs['sample_id'] = adata.obs.index"
   ]
  },
  {
   "cell_type": "markdown",
   "id": "61c2c03b",
   "metadata": {},
   "source": [
    "### Quality control\n",
    "Sanity check of amount of genes for which there is a minimal expression."
   ]
  },
  {
   "cell_type": "code",
   "execution_count": null,
   "id": "70c26379",
   "metadata": {},
   "outputs": [],
   "source": [
    "# Obtain genes that pass the thresholds\n",
    "genes = dc.filter_by_expr(adata, group='cluster',\n",
    "                          min_count=10, min_total_count=15, large_n=1, min_prop=1)\n",
    "\n",
    "len(genes)"
   ]
  },
  {
   "cell_type": "code",
   "execution_count": null,
   "id": "a8ba8d4d",
   "metadata": {},
   "outputs": [],
   "source": [
    "# Filter by the obtained genes\n",
    "adata = adata[:, genes].copy()"
   ]
  },
  {
   "cell_type": "markdown",
   "id": "f4b1b32f",
   "metadata": {},
   "source": [
    "### Differential expression analysis"
   ]
  },
  {
   "cell_type": "code",
   "execution_count": null,
   "id": "5625da8e",
   "metadata": {},
   "outputs": [],
   "source": [
    "# Build the DESeq2 object\n",
    "dds = DeseqDataSet(\n",
    "    adata=adata,\n",
    "    design_factors= 'comparison',\n",
    "    refit_cooks=True,\n",
    "    n_cpus=8, ref_level = ['comparison', 'Group1']\n",
    ")"
   ]
  },
  {
   "cell_type": "code",
   "execution_count": null,
   "id": "32d76c64",
   "metadata": {},
   "outputs": [],
   "source": [
    "# Compute LFCs\n",
    "dds.deseq2()"
   ]
  },
  {
   "cell_type": "code",
   "execution_count": null,
   "id": "941451aa",
   "metadata": {},
   "outputs": [],
   "source": [
    "# Scale by PRISM EOC counts setting the size factors\n",
    "G = pd.read_csv('your/path/G.tsv.gz',\n",
    "                sep='\\t', index_col=0)\n",
    "W = pd.read_csv('your/path/W.tsv.gz',\n",
    "                sep='\\t', index_col=0)\n",
    "\n",
    "nf_bulk = G.loc['bulk_gains']*W['EOC']\n",
    "nf_bulk = nf_bulk / np.exp(np.mean(np.log(nf_bulk)))\n",
    "\n",
    "\n",
    "nf_bulk_II = nf_bulk.loc[ann_samples['sample'].values]\n",
    "nf_bulk_II.index = ann_samples[ann_samples['sample'].isin(nf_bulk_II.index)].index\n",
    "dds.obsm['size_factors'] = nf_bulk_II.values"
   ]
  },
  {
   "cell_type": "code",
   "execution_count": null,
   "id": "054c5b07",
   "metadata": {},
   "outputs": [],
   "source": [
    "# DEA\n",
    "stat_res = DeseqStats(dds,\n",
    "                      contrast=[\"comparison\",'Group1','Group2'])\n",
    "# Compute Wald test\n",
    "stat_res.summary()"
   ]
  },
  {
   "cell_type": "code",
   "execution_count": null,
   "id": "a4c0c002",
   "metadata": {},
   "outputs": [],
   "source": [
    "# Extract the results\n",
    "results_df = stat_res.results_df\n",
    "\n",
    "# Extract differentially expressed genes (DEGs)\n",
    "DEG  = results_df[results_df['padj'] <= 0.05] "
   ]
  },
  {
   "cell_type": "code",
   "execution_count": null,
   "id": "3c70f0fc",
   "metadata": {},
   "outputs": [],
   "source": [
    "# Plot DEGs in a volcano\n",
    "dc.plot_volcano_df(results_df, x='log2FoldChange',\n",
    "                   y='padj', top=25, dpi=250, lFCs_thr=1., sign_limit=6, sign_thr=0.05)\n",
    "plt.title('DeSeq2 volcano plot')\n",
    "plt.savefig('your/path/volcano.png')\n",
    "\n",
    "plt.show()"
   ]
  },
  {
   "cell_type": "code",
   "execution_count": null,
   "id": "32c9689a",
   "metadata": {},
   "outputs": [],
   "source": [
    "# Extract the result in a vector\n",
    "mat = results_df[['stat']].T.rename(index={'stat': 'g1.vs.g2'})"
   ]
  },
  {
   "cell_type": "markdown",
   "id": "39b8ab9e",
   "metadata": {},
   "source": [
    "## Transcriptional factor activity with CollecTRI\n",
    "Functional analysis to infer the activities of trancription factors.\n",
    "\n",
    "Required: results from DEA"
   ]
  },
  {
   "cell_type": "code",
   "execution_count": null,
   "id": "ad3ebc69",
   "metadata": {},
   "outputs": [],
   "source": [
    "# Retrieve the libraries \n",
    "collectri = dc.get_collectri(organism='human', split_complexes=False)\n",
    "progeny = dc.get_progeny(top=500)"
   ]
  },
  {
   "cell_type": "code",
   "execution_count": null,
   "id": "b88025cc",
   "metadata": {},
   "outputs": [],
   "source": [
    "# Infer TF activities with ulm\n",
    "tf_acts, tf_pvals = dc.run_ulm(mat=mat,\n",
    "                               net=collectri,\n",
    "                               verbose=True, min_n=10)"
   ]
  },
  {
   "cell_type": "code",
   "execution_count": null,
   "id": "0c1d5b2f",
   "metadata": {},
   "outputs": [],
   "source": [
    "# Plot the top20 TF activities\n",
    "dc.plot_barplot(tf_acts, 'core.vs.others', top=20, vertical=True, figsize=(8,5)\n",
    "                , dpi=250\n",
    "               )\n",
    "plt.title('CollecTRI TFs activities')\n",
    "plt.savefig('your/path/collecTRI.png')\n",
    "\n",
    "plt.show()"
   ]
  },
  {
   "cell_type": "markdown",
   "id": "2d7f9f97",
   "metadata": {},
   "source": [
    "## Pathway activity inference with PROGENy\n",
    "Functional analysis to infer pathway activity of pre-selected pathways.\n",
    "\n",
    "Required: results from DEA"
   ]
  },
  {
   "cell_type": "code",
   "execution_count": null,
   "id": "aae008a3",
   "metadata": {},
   "outputs": [],
   "source": [
    "# Infer pathway activities with mlm\n",
    "pathway_acts, pathway_pvals = dc.run_mlm(mat=mat, net=progeny, verbose=True,)"
   ]
  },
  {
   "cell_type": "code",
   "execution_count": null,
   "id": "46168b03",
   "metadata": {},
   "outputs": [],
   "source": [
    "# Plot pathway activities\n",
    "fig = dc.plot_barplot(pathway_acts, 'core.vs.others',\n",
    "                top=25, vertical=False, dpi=200, figsize=(6,3),)\n",
    "plt.title('PROGENy pathway activities', fontsize=12)\n",
    "plt.xticks(ticks=range(14), fontsize=8)\n",
    "plt.ylabel('Activity', fontsize=8)\n",
    "plt.tight_layout()\n",
    "plt.savefig('your/path/progeny.png', bbox_inches='tight', dpi=200)\n",
    "\n",
    "plt.show()"
   ]
  },
  {
   "cell_type": "markdown",
   "id": "2df28e38",
   "metadata": {},
   "source": [
    "## GSEA\n",
    "Gene Set Enrichment Analysis using the Cancer Hallmark database from MSigDB.\n",
    "\n",
    "Required: TMM normalized expression matrix, annotation table"
   ]
  },
  {
   "cell_type": "code",
   "execution_count": null,
   "id": "b9d1cbd0",
   "metadata": {},
   "outputs": [],
   "source": [
    "# Create the study object\n",
    "tmm_study = E_tmm[ann_samples['sample'].values]\n",
    "tmm_study.columns = ann_samples[ann_samples['sample'].isin(tmm_study.columns)].index\n",
    "\n",
    "gs_res_hk = gp.gsea(data=tmm_study, \n",
    "                 gene_sets='MSigDB_Hallmark_2020', # or enrichr library names\n",
    "                 cls=ann_samples.cluster,\n",
    "                 permutation_type='gene_set',\n",
    "                 permutation_num=1000, \n",
    "                 method='signal_to_noise',\n",
    "                 threads=1, seed= 7, max_size=500)\n",
    "gs_res_hk.res2d.sort_values('NES')"
   ]
  },
  {
   "cell_type": "code",
   "execution_count": null,
   "id": "3e2205ff",
   "metadata": {},
   "outputs": [],
   "source": [
    "# GSEA plot of specific pathways\n",
    "terms = gs_res.res2d.Term\n",
    "\n",
    "gp.gseaplot(rank_metric=gs_res.ranking,\n",
    "         term=terms[1],\n",
    "         **gs_res.results[terms[1]], figsize=(10,6),)\n",
    "plt.show()"
   ]
  }
 ],
 "metadata": {
  "kernelspec": {
   "display_name": "Python 3 (ipykernel)",
   "language": "python",
   "name": "python3"
  },
  "language_info": {
   "codemirror_mode": {
    "name": "ipython",
    "version": 3
   },
   "file_extension": ".py",
   "mimetype": "text/x-python",
   "name": "python",
   "nbconvert_exporter": "python",
   "pygments_lexer": "ipython3",
   "version": "3.10.15"
  }
 },
 "nbformat": 4,
 "nbformat_minor": 5
}
